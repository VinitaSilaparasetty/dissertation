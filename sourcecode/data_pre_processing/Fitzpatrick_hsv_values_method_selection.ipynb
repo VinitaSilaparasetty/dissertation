{
  "nbformat": 4,
  "nbformat_minor": 0,
  "metadata": {
    "colab": {
      "name": "Fitzpatrick_hsv_values_method_selection.ipynb",
      "provenance": [],
      "collapsed_sections": []
    },
    "kernelspec": {
      "name": "python3",
      "display_name": "Python 3"
    },
    "language_info": {
      "name": "python"
    }
  },
  "cells": [
    {
      "cell_type": "markdown",
      "metadata": {
        "id": "mFj-wz2WHqEJ"
      },
      "source": [
        "# Color Conversion Method Selection"
      ]
    },
    {
      "cell_type": "markdown",
      "metadata": {
        "id": "DtM8gExZHxbE"
      },
      "source": [
        "### Import Libraries"
      ]
    },
    {
      "cell_type": "code",
      "metadata": {
        "id": "DHt1raZKZGWa"
      },
      "source": [
        "import cv2 as cv\n",
        "import numpy as np\n",
        "import matplotlib as plt\n",
        "import pandas as pd"
      ],
      "execution_count": null,
      "outputs": []
    },
    {
      "cell_type": "markdown",
      "metadata": {
        "id": "l6akn1GTfvGB"
      },
      "source": [
        "Using OpenCV"
      ]
    },
    {
      "cell_type": "code",
      "metadata": {
        "colab": {
          "base_uri": "https://localhost:8080/"
        },
        "id": "08_Cbf7HYSIc",
        "outputId": "98300fc9-8322-4579-dc02-22b25d8b21b7"
      },
      "source": [
        "rgb_values = np.uint8([[[255,229,200]]])\n",
        "hsv_values = cv.cvtColor(rgb_values,cv.COLOR_BGR2HSV)\n",
        "print(hsv_values)"
      ],
      "execution_count": null,
      "outputs": [
        {
          "output_type": "stream",
          "text": [
            "[[[104  55 255]]]\n"
          ],
          "name": "stdout"
        }
      ]
    },
    {
      "cell_type": "markdown",
      "metadata": {
        "id": "FgdSpct9fxCu"
      },
      "source": [
        "Color Conversion Formula"
      ]
    },
    {
      "cell_type": "markdown",
      "metadata": {
        "id": "qDbZKWw_Iibv"
      },
      "source": [
        "R' = R/255\n",
        "\n",
        "G' = G/255\n",
        "\n",
        "B' = B/255\n",
        "\n",
        "Cmax = max(R', G', B')\n",
        "\n",
        "Cmin = min(R', G', B')\n",
        "\n",
        "Δ = Cmax - Cmin\n",
        "\n",
        " \n",
        "\n",
        "Hue calculation:\n",
        "\n",
        "\n",
        "\n",
        " \n",
        "\n",
        "Saturation calculation:\n",
        "\n",
        "\n",
        "\n",
        " \n",
        "\n",
        "Value calculation:\n",
        "\n",
        "V = Cmax"
      ]
    },
    {
      "cell_type": "code",
      "metadata": {
        "colab": {
          "base_uri": "https://localhost:8080/"
        },
        "id": "_K2ZvEKGeZHF",
        "outputId": "368e376f-6ef6-4445-b07c-ce1b8d20f604"
      },
      "source": [
        "def rgb_to_hsv(r, g, b):\n",
        "    r, g, b = r/255.0, g/255.0, b/255.0\n",
        "    mx = max(r, g, b)\n",
        "    mn = min(r, g, b)\n",
        "    df = mx-mn\n",
        "    if mx == mn:\n",
        "        h = 0\n",
        "    elif mx == r:\n",
        "        h = (60 * ((g-b)/df) + 360) % 360\n",
        "    elif mx == g:\n",
        "        h = (60 * ((b-r)/df) + 120) % 360\n",
        "    elif mx == b:\n",
        "        h = (60 * ((r-g)/df) + 240) % 360\n",
        "    if mx == 0:\n",
        "        s = 0\n",
        "    else:\n",
        "        s = (df/mx)*100\n",
        "    v = mx*100\n",
        "    return h, s, v\n",
        "\n",
        "print(rgb_to_hsv(255,229,200))\n"
      ],
      "execution_count": null,
      "outputs": [
        {
          "output_type": "stream",
          "text": [
            "(31.636363636363626, 21.568627450980394, 100.0)\n"
          ],
          "name": "stdout"
        }
      ]
    },
    {
      "cell_type": "markdown",
      "metadata": {
        "id": "nuCLkwgafzBt"
      },
      "source": [
        "Using Colormath Library"
      ]
    },
    {
      "cell_type": "code",
      "metadata": {
        "id": "QXCgUtu85u4F"
      },
      "source": [
        "#pip install colormath"
      ],
      "execution_count": null,
      "outputs": []
    },
    {
      "cell_type": "code",
      "metadata": {
        "id": "fLSq9KxEfeYB"
      },
      "source": [
        "import colormath\n",
        "from colormath.color_objects import LabColor, XYZColor\n",
        "from colormath.color_conversions import convert_color"
      ],
      "execution_count": null,
      "outputs": []
    },
    {
      "cell_type": "code",
      "metadata": {
        "colab": {
          "base_uri": "https://localhost:8080/"
        },
        "id": "w2nPnnlSf02x",
        "outputId": "a6c9e88c-9e03-4671-b90a-31516e9d39b3"
      },
      "source": [
        "lab = LabColor(255,229,200)\n",
        "xyz = convert_color(lab, XYZColor)\n",
        "print(xyz)"
      ],
      "execution_count": null,
      "outputs": [
        {
          "output_type": "stream",
          "text": [
            "XYZColor (xyz_x:21.0355 xyz_y:12.7507 xyz_z:1.9687)\n"
          ],
          "name": "stdout"
        }
      ]
    },
    {
      "cell_type": "markdown",
      "metadata": {
        "id": "_QWRe9cXgZ0U"
      },
      "source": [
        "Using Colorsys Library"
      ]
    },
    {
      "cell_type": "code",
      "metadata": {
        "colab": {
          "base_uri": "https://localhost:8080/"
        },
        "id": "CJJbyGFugHQ6",
        "outputId": "3b5b329d-1508-4aeb-bb90-eb532dacf345"
      },
      "source": [
        "import colorsys\n",
        "r,g,b=255,229,200\n",
        "colorsys.rgb_to_hsv(r,g,b)\n"
      ],
      "execution_count": null,
      "outputs": [
        {
          "output_type": "execute_result",
          "data": {
            "text/plain": [
              "(0.08787878787878789, 0.21568627450980393, 255)"
            ]
          },
          "metadata": {
            "tags": []
          },
          "execution_count": 34
        }
      ]
    },
    {
      "cell_type": "markdown",
      "metadata": {
        "id": "qQR4E33LhZv0"
      },
      "source": [
        "Using Acrylic Library"
      ]
    },
    {
      "cell_type": "code",
      "metadata": {
        "colab": {
          "base_uri": "https://localhost:8080/"
        },
        "id": "atVEUdYohWnR",
        "outputId": "b8438c54-0b38-4549-ff2d-f8fe5b282281"
      },
      "source": [
        "import acrylic\n",
        "from acrylic import Color\n",
        "rgb_value = Color(rgb=[45, 34, 40])\n",
        "print(rgb_value.hsv)"
      ],
      "execution_count": null,
      "outputs": [
        {
          "output_type": "stream",
          "text": [
            "Hsv(h=327.27, s=24.44, v=17.65)\n"
          ],
          "name": "stdout"
        }
      ]
    }
  ]
}