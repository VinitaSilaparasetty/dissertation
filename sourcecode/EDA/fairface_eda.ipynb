{
  "nbformat": 4,
  "nbformat_minor": 0,
  "metadata": {
    "colab": {
      "name": "fairface_eda.ipynb",
      "provenance": [],
      "collapsed_sections": []
    },
    "kernelspec": {
      "display_name": "Python 3",
      "name": "python3"
    },
    "language_info": {
      "name": "python"
    }
  },
  "cells": [
    {
      "cell_type": "markdown",
      "metadata": {
        "id": "PnJCg5kjmh1B"
      },
      "source": [
        "# Fair Face EDA"
      ]
    },
    {
      "cell_type": "markdown",
      "metadata": {
        "id": "sjW7ZItvmncV"
      },
      "source": [
        "#### Import Libraries"
      ]
    },
    {
      "cell_type": "code",
      "metadata": {
        "id": "LCTVzL1hmfLN"
      },
      "source": [
        "import pandas as pd\n",
        "import numpy as np\n",
        "import matplotlib.pyplot as plt\n",
        "import seaborn as sns\n",
        "import missingno as msno"
      ],
      "execution_count": 1,
      "outputs": []
    },
    {
      "cell_type": "markdown",
      "metadata": {
        "id": "S8CnIyquojfM"
      },
      "source": [
        "#### Load Data"
      ]
    },
    {
      "cell_type": "code",
      "metadata": {
        "id": "wZkfrIoson_6"
      },
      "source": [
        "train_data1=pd.read_csv(\"/content/drive/MyDrive/fairface_resampling/fairface_original_train.csv\")"
      ],
      "execution_count": 4,
      "outputs": []
    },
    {
      "cell_type": "code",
      "metadata": {
        "id": "hsSyHFe3ZQqQ"
      },
      "source": [
        "train_data=train_data1.copy()"
      ],
      "execution_count": 5,
      "outputs": []
    },
    {
      "cell_type": "code",
      "metadata": {
        "colab": {
          "base_uri": "https://localhost:8080/",
          "height": 204
        },
        "id": "nW8H697_pijy",
        "outputId": "af100810-f82f-4149-d982-1c8947676acb"
      },
      "source": [
        "train_data.head()"
      ],
      "execution_count": 6,
      "outputs": [
        {
          "output_type": "execute_result",
          "data": {
            "text/html": [
              "<div>\n",
              "<style scoped>\n",
              "    .dataframe tbody tr th:only-of-type {\n",
              "        vertical-align: middle;\n",
              "    }\n",
              "\n",
              "    .dataframe tbody tr th {\n",
              "        vertical-align: top;\n",
              "    }\n",
              "\n",
              "    .dataframe thead th {\n",
              "        text-align: right;\n",
              "    }\n",
              "</style>\n",
              "<table border=\"1\" class=\"dataframe\">\n",
              "  <thead>\n",
              "    <tr style=\"text-align: right;\">\n",
              "      <th></th>\n",
              "      <th>file</th>\n",
              "      <th>age</th>\n",
              "      <th>gender</th>\n",
              "      <th>race</th>\n",
              "      <th>service_test</th>\n",
              "    </tr>\n",
              "  </thead>\n",
              "  <tbody>\n",
              "    <tr>\n",
              "      <th>0</th>\n",
              "      <td>train/1.jpg</td>\n",
              "      <td>50-59</td>\n",
              "      <td>Male</td>\n",
              "      <td>East Asian</td>\n",
              "      <td>True</td>\n",
              "    </tr>\n",
              "    <tr>\n",
              "      <th>1</th>\n",
              "      <td>train/2.jpg</td>\n",
              "      <td>30-39</td>\n",
              "      <td>Female</td>\n",
              "      <td>Indian</td>\n",
              "      <td>False</td>\n",
              "    </tr>\n",
              "    <tr>\n",
              "      <th>2</th>\n",
              "      <td>train/3.jpg</td>\n",
              "      <td>3-9</td>\n",
              "      <td>Female</td>\n",
              "      <td>Black</td>\n",
              "      <td>False</td>\n",
              "    </tr>\n",
              "    <tr>\n",
              "      <th>3</th>\n",
              "      <td>train/4.jpg</td>\n",
              "      <td>20-29</td>\n",
              "      <td>Female</td>\n",
              "      <td>Indian</td>\n",
              "      <td>True</td>\n",
              "    </tr>\n",
              "    <tr>\n",
              "      <th>4</th>\n",
              "      <td>train/5.jpg</td>\n",
              "      <td>20-29</td>\n",
              "      <td>Female</td>\n",
              "      <td>Indian</td>\n",
              "      <td>True</td>\n",
              "    </tr>\n",
              "  </tbody>\n",
              "</table>\n",
              "</div>"
            ],
            "text/plain": [
              "          file    age  gender        race  service_test\n",
              "0  train/1.jpg  50-59    Male  East Asian          True\n",
              "1  train/2.jpg  30-39  Female      Indian         False\n",
              "2  train/3.jpg    3-9  Female       Black         False\n",
              "3  train/4.jpg  20-29  Female      Indian          True\n",
              "4  train/5.jpg  20-29  Female      Indian          True"
            ]
          },
          "metadata": {},
          "execution_count": 6
        }
      ]
    },
    {
      "cell_type": "code",
      "metadata": {
        "colab": {
          "base_uri": "https://localhost:8080/"
        },
        "id": "xgx44B-SKyAC",
        "outputId": "64326048-1fd5-4c4b-8713-66df475d63f0"
      },
      "source": [
        "train_data.shape"
      ],
      "execution_count": 7,
      "outputs": [
        {
          "output_type": "execute_result",
          "data": {
            "text/plain": [
              "(86744, 5)"
            ]
          },
          "metadata": {},
          "execution_count": 7
        }
      ]
    },
    {
      "cell_type": "code",
      "metadata": {
        "id": "RVc6Y4Q--X6M"
      },
      "source": [
        "test_data1=pd.read_csv(\"/content/drive/MyDrive/fairface_resampling/fairface_original_test.csv\")"
      ],
      "execution_count": 8,
      "outputs": []
    },
    {
      "cell_type": "code",
      "metadata": {
        "id": "2odLvJuA-dtU"
      },
      "source": [
        "test_data=test_data1.copy()"
      ],
      "execution_count": 9,
      "outputs": []
    },
    {
      "cell_type": "code",
      "metadata": {
        "colab": {
          "base_uri": "https://localhost:8080/",
          "height": 204
        },
        "id": "2QaRWU1X-iSb",
        "outputId": "2b054c4e-6479-4f5e-ecd1-a05680540966"
      },
      "source": [
        "test_data.head()"
      ],
      "execution_count": 10,
      "outputs": [
        {
          "output_type": "execute_result",
          "data": {
            "text/html": [
              "<div>\n",
              "<style scoped>\n",
              "    .dataframe tbody tr th:only-of-type {\n",
              "        vertical-align: middle;\n",
              "    }\n",
              "\n",
              "    .dataframe tbody tr th {\n",
              "        vertical-align: top;\n",
              "    }\n",
              "\n",
              "    .dataframe thead th {\n",
              "        text-align: right;\n",
              "    }\n",
              "</style>\n",
              "<table border=\"1\" class=\"dataframe\">\n",
              "  <thead>\n",
              "    <tr style=\"text-align: right;\">\n",
              "      <th></th>\n",
              "      <th>file</th>\n",
              "      <th>age</th>\n",
              "      <th>gender</th>\n",
              "      <th>race</th>\n",
              "      <th>service_test</th>\n",
              "    </tr>\n",
              "  </thead>\n",
              "  <tbody>\n",
              "    <tr>\n",
              "      <th>0</th>\n",
              "      <td>val/1.jpg</td>\n",
              "      <td>3-9</td>\n",
              "      <td>Male</td>\n",
              "      <td>East Asian</td>\n",
              "      <td>False</td>\n",
              "    </tr>\n",
              "    <tr>\n",
              "      <th>1</th>\n",
              "      <td>val/2.jpg</td>\n",
              "      <td>50-59</td>\n",
              "      <td>Female</td>\n",
              "      <td>East Asian</td>\n",
              "      <td>True</td>\n",
              "    </tr>\n",
              "    <tr>\n",
              "      <th>2</th>\n",
              "      <td>val/3.jpg</td>\n",
              "      <td>30-39</td>\n",
              "      <td>Male</td>\n",
              "      <td>White</td>\n",
              "      <td>True</td>\n",
              "    </tr>\n",
              "    <tr>\n",
              "      <th>3</th>\n",
              "      <td>val/4.jpg</td>\n",
              "      <td>20-29</td>\n",
              "      <td>Female</td>\n",
              "      <td>Latino_Hispanic</td>\n",
              "      <td>True</td>\n",
              "    </tr>\n",
              "    <tr>\n",
              "      <th>4</th>\n",
              "      <td>val/5.jpg</td>\n",
              "      <td>20-29</td>\n",
              "      <td>Male</td>\n",
              "      <td>Southeast Asian</td>\n",
              "      <td>False</td>\n",
              "    </tr>\n",
              "  </tbody>\n",
              "</table>\n",
              "</div>"
            ],
            "text/plain": [
              "        file    age  gender             race  service_test\n",
              "0  val/1.jpg    3-9    Male       East Asian         False\n",
              "1  val/2.jpg  50-59  Female       East Asian          True\n",
              "2  val/3.jpg  30-39    Male            White          True\n",
              "3  val/4.jpg  20-29  Female  Latino_Hispanic          True\n",
              "4  val/5.jpg  20-29    Male  Southeast Asian         False"
            ]
          },
          "metadata": {},
          "execution_count": 10
        }
      ]
    },
    {
      "cell_type": "code",
      "metadata": {
        "colab": {
          "base_uri": "https://localhost:8080/"
        },
        "id": "1K6_YozO-oTn",
        "outputId": "6dbd0dc0-4be2-4097-824d-c86125ca792c"
      },
      "source": [
        "test_data.shape"
      ],
      "execution_count": 11,
      "outputs": [
        {
          "output_type": "execute_result",
          "data": {
            "text/plain": [
              "(10954, 5)"
            ]
          },
          "metadata": {},
          "execution_count": 11
        }
      ]
    },
    {
      "cell_type": "markdown",
      "metadata": {
        "id": "yD436hTGLIv8"
      },
      "source": [
        "### Summary Statistics"
      ]
    },
    {
      "cell_type": "code",
      "metadata": {
        "colab": {
          "base_uri": "https://localhost:8080/",
          "height": 173
        },
        "id": "TTdv4svQLRew",
        "outputId": "b2f3143e-0fc5-4550-c0de-75410dce14d5"
      },
      "source": [
        "train_data.describe()"
      ],
      "execution_count": null,
      "outputs": [
        {
          "output_type": "execute_result",
          "data": {
            "text/html": [
              "<div>\n",
              "<style scoped>\n",
              "    .dataframe tbody tr th:only-of-type {\n",
              "        vertical-align: middle;\n",
              "    }\n",
              "\n",
              "    .dataframe tbody tr th {\n",
              "        vertical-align: top;\n",
              "    }\n",
              "\n",
              "    .dataframe thead th {\n",
              "        text-align: right;\n",
              "    }\n",
              "</style>\n",
              "<table border=\"1\" class=\"dataframe\">\n",
              "  <thead>\n",
              "    <tr style=\"text-align: right;\">\n",
              "      <th></th>\n",
              "      <th>file</th>\n",
              "      <th>age</th>\n",
              "      <th>gender</th>\n",
              "      <th>race</th>\n",
              "      <th>service_test</th>\n",
              "    </tr>\n",
              "  </thead>\n",
              "  <tbody>\n",
              "    <tr>\n",
              "      <th>count</th>\n",
              "      <td>71987</td>\n",
              "      <td>71987</td>\n",
              "      <td>71987</td>\n",
              "      <td>71987</td>\n",
              "      <td>71986</td>\n",
              "    </tr>\n",
              "    <tr>\n",
              "      <th>unique</th>\n",
              "      <td>71987</td>\n",
              "      <td>9</td>\n",
              "      <td>2</td>\n",
              "      <td>8</td>\n",
              "      <td>2</td>\n",
              "    </tr>\n",
              "    <tr>\n",
              "      <th>top</th>\n",
              "      <td>train/48268.jpg</td>\n",
              "      <td>20-29</td>\n",
              "      <td>Male</td>\n",
              "      <td>White</td>\n",
              "      <td>False</td>\n",
              "    </tr>\n",
              "    <tr>\n",
              "      <th>freq</th>\n",
              "      <td>1</td>\n",
              "      <td>21252</td>\n",
              "      <td>38143</td>\n",
              "      <td>13740</td>\n",
              "      <td>38541</td>\n",
              "    </tr>\n",
              "  </tbody>\n",
              "</table>\n",
              "</div>"
            ],
            "text/plain": [
              "                   file    age gender   race service_test\n",
              "count             71987  71987  71987  71987        71986\n",
              "unique            71987      9      2      8            2\n",
              "top     train/48268.jpg  20-29   Male  White        False\n",
              "freq                  1  21252  38143  13740        38541"
            ]
          },
          "metadata": {
            "tags": []
          },
          "execution_count": 12
        }
      ]
    },
    {
      "cell_type": "code",
      "metadata": {
        "colab": {
          "base_uri": "https://localhost:8080/",
          "height": 173
        },
        "id": "jGMk5ZpKMjR6",
        "outputId": "65528234-87a2-49db-ce50-47e39d2cc7de"
      },
      "source": [
        "test_data.describe()"
      ],
      "execution_count": null,
      "outputs": [
        {
          "output_type": "execute_result",
          "data": {
            "text/html": [
              "<div>\n",
              "<style scoped>\n",
              "    .dataframe tbody tr th:only-of-type {\n",
              "        vertical-align: middle;\n",
              "    }\n",
              "\n",
              "    .dataframe tbody tr th {\n",
              "        vertical-align: top;\n",
              "    }\n",
              "\n",
              "    .dataframe thead th {\n",
              "        text-align: right;\n",
              "    }\n",
              "</style>\n",
              "<table border=\"1\" class=\"dataframe\">\n",
              "  <thead>\n",
              "    <tr style=\"text-align: right;\">\n",
              "      <th></th>\n",
              "      <th>file</th>\n",
              "      <th>age</th>\n",
              "      <th>gender</th>\n",
              "      <th>race</th>\n",
              "      <th>service_test</th>\n",
              "    </tr>\n",
              "  </thead>\n",
              "  <tbody>\n",
              "    <tr>\n",
              "      <th>count</th>\n",
              "      <td>10954</td>\n",
              "      <td>10954</td>\n",
              "      <td>10954</td>\n",
              "      <td>10954</td>\n",
              "      <td>10954</td>\n",
              "    </tr>\n",
              "    <tr>\n",
              "      <th>unique</th>\n",
              "      <td>10954</td>\n",
              "      <td>9</td>\n",
              "      <td>2</td>\n",
              "      <td>7</td>\n",
              "      <td>2</td>\n",
              "    </tr>\n",
              "    <tr>\n",
              "      <th>top</th>\n",
              "      <td>val/1615.jpg</td>\n",
              "      <td>20-29</td>\n",
              "      <td>Male</td>\n",
              "      <td>White</td>\n",
              "      <td>False</td>\n",
              "    </tr>\n",
              "    <tr>\n",
              "      <th>freq</th>\n",
              "      <td>1</td>\n",
              "      <td>3300</td>\n",
              "      <td>5792</td>\n",
              "      <td>2085</td>\n",
              "      <td>5792</td>\n",
              "    </tr>\n",
              "  </tbody>\n",
              "</table>\n",
              "</div>"
            ],
            "text/plain": [
              "                file    age gender   race service_test\n",
              "count          10954  10954  10954  10954        10954\n",
              "unique         10954      9      2      7            2\n",
              "top     val/1615.jpg  20-29   Male  White        False\n",
              "freq               1   3300   5792   2085         5792"
            ]
          },
          "metadata": {
            "tags": []
          },
          "execution_count": 13
        }
      ]
    },
    {
      "cell_type": "code",
      "metadata": {
        "colab": {
          "base_uri": "https://localhost:8080/"
        },
        "id": "6sVkNGjkMplO",
        "outputId": "964d19dc-34c9-4a97-bb13-629d2b50bf83"
      },
      "source": [
        "train_data.info()"
      ],
      "execution_count": null,
      "outputs": [
        {
          "output_type": "stream",
          "text": [
            "<class 'pandas.core.frame.DataFrame'>\n",
            "RangeIndex: 71987 entries, 0 to 71986\n",
            "Data columns (total 5 columns):\n",
            " #   Column        Non-Null Count  Dtype \n",
            "---  ------        --------------  ----- \n",
            " 0   file          71987 non-null  object\n",
            " 1   age           71987 non-null  object\n",
            " 2   gender        71987 non-null  object\n",
            " 3   race          71987 non-null  object\n",
            " 4   service_test  71986 non-null  object\n",
            "dtypes: object(5)\n",
            "memory usage: 2.7+ MB\n"
          ],
          "name": "stdout"
        }
      ]
    },
    {
      "cell_type": "code",
      "metadata": {
        "colab": {
          "base_uri": "https://localhost:8080/"
        },
        "id": "9b9xjtWUM183",
        "outputId": "19d6f771-7555-480e-8e04-b3bb60a6cc49"
      },
      "source": [
        "test_data.info()"
      ],
      "execution_count": null,
      "outputs": [
        {
          "output_type": "stream",
          "text": [
            "<class 'pandas.core.frame.DataFrame'>\n",
            "RangeIndex: 10954 entries, 0 to 10953\n",
            "Data columns (total 5 columns):\n",
            " #   Column        Non-Null Count  Dtype \n",
            "---  ------        --------------  ----- \n",
            " 0   file          10954 non-null  object\n",
            " 1   age           10954 non-null  object\n",
            " 2   gender        10954 non-null  object\n",
            " 3   race          10954 non-null  object\n",
            " 4   service_test  10954 non-null  bool  \n",
            "dtypes: bool(1), object(4)\n",
            "memory usage: 353.1+ KB\n"
          ],
          "name": "stdout"
        }
      ]
    },
    {
      "cell_type": "markdown",
      "metadata": {
        "id": "gbZIieAmmkau"
      },
      "source": [
        "### Check for Missing Values"
      ]
    },
    {
      "cell_type": "code",
      "metadata": {
        "colab": {
          "base_uri": "https://localhost:8080/"
        },
        "id": "H1ikeMdkLkMl",
        "outputId": "f0409075-e16c-4f01-d047-78f60b4150ab"
      },
      "source": [
        "train_data.isnull().sum()"
      ],
      "execution_count": null,
      "outputs": [
        {
          "output_type": "execute_result",
          "data": {
            "text/plain": [
              "file            0\n",
              "age             0\n",
              "gender          0\n",
              "race            0\n",
              "service_test    1\n",
              "dtype: int64"
            ]
          },
          "metadata": {
            "tags": []
          },
          "execution_count": 16
        }
      ]
    },
    {
      "cell_type": "code",
      "metadata": {
        "colab": {
          "base_uri": "https://localhost:8080/",
          "height": 463
        },
        "id": "yxFok0W0NbGG",
        "outputId": "07e65168-db30-4910-8abe-213bd17ab416"
      },
      "source": [
        "plt.figure(figsize=(10,10))\n",
        "msno.bar(train_data, color='teal');"
      ],
      "execution_count": null,
      "outputs": [
        {
          "output_type": "display_data",
          "data": {
            "image/png": "[encoded data removed]",
            "text/plain": [
              "<Figure size 1800x720 with 3 Axes>"
            ]
          },
          "metadata": {
            "tags": []
          }
        }
      ]
    },
    {
      "cell_type": "code",
      "metadata": {
        "colab": {
          "base_uri": "https://localhost:8080/"
        },
        "id": "9ptqjjdgLqHQ",
        "outputId": "a750bf2d-131b-4cdb-d8c2-e850fbe06fd2"
      },
      "source": [
        "test_data.isnull().sum()"
      ],
      "execution_count": null,
      "outputs": [
        {
          "output_type": "execute_result",
          "data": {
            "text/plain": [
              "file            0\n",
              "age             0\n",
              "gender          0\n",
              "race            0\n",
              "service_test    0\n",
              "dtype: int64"
            ]
          },
          "metadata": {
            "tags": []
          },
          "execution_count": 18
        }
      ]
    },
    {
      "cell_type": "code",
      "metadata": {
        "colab": {
          "base_uri": "https://localhost:8080/",
          "height": 463
        },
        "id": "xthr--LKNnRk",
        "outputId": "d959e152-be34-4c17-f76e-4e79abbdb4ca"
      },
      "source": [
        "plt.figure(figsize=(10,10))\n",
        "msno.bar(test_data, color='teal');"
      ],
      "execution_count": null,
      "outputs": [
        {
          "output_type": "display_data",
          "data": {
            "image/png": "[encoded data removed]",
            "text/plain": [
              "<Figure size 1800x720 with 3 Axes>"
            ]
          },
          "metadata": {
            "tags": []
          }
        }
      ]
    },
    {
      "cell_type": "markdown",
      "metadata": {
        "id": "RK0Sdkgwmp21"
      },
      "source": [
        "### Check for Duplicate Values"
      ]
    },
    {
      "cell_type": "code",
      "metadata": {
        "colab": {
          "base_uri": "https://localhost:8080/"
        },
        "id": "LEqWIpvrME6_",
        "outputId": "1e918a58-3c4a-4e69-9c82-1a4599f3c433"
      },
      "source": [
        "train_data.duplicated().any()"
      ],
      "execution_count": null,
      "outputs": [
        {
          "output_type": "execute_result",
          "data": {
            "text/plain": [
              "False"
            ]
          },
          "metadata": {
            "tags": []
          },
          "execution_count": 20
        }
      ]
    },
    {
      "cell_type": "code",
      "metadata": {
        "colab": {
          "base_uri": "https://localhost:8080/"
        },
        "id": "3SmnCEOZMPRW",
        "outputId": "cd0aa0d2-fa3b-4d32-d106-f31ee978b829"
      },
      "source": [
        "test_data.duplicated().any()"
      ],
      "execution_count": null,
      "outputs": [
        {
          "output_type": "execute_result",
          "data": {
            "text/plain": [
              "False"
            ]
          },
          "metadata": {
            "tags": []
          },
          "execution_count": 21
        }
      ]
    },
    {
      "cell_type": "markdown",
      "metadata": {
        "id": "03NVEUuhnHvz"
      },
      "source": [
        "### Check Distribution"
      ]
    },
    {
      "cell_type": "code",
      "metadata": {
        "colab": {
          "base_uri": "https://localhost:8080/",
          "height": 650
        },
        "id": "tnfxj3_bHK3x",
        "outputId": "03d56b07-8cfe-4d17-fbca-267d4fed09be"
      },
      "source": [
        "plt.figure(figsize=(10,10))\n",
        "chart=sns.countplot(x ='age', data = train_data)\n",
        "chart.set_xticklabels(chart.get_xticklabels(), rotation=45);"
      ],
      "execution_count": 14,
      "outputs": [
        {
          "output_type": "display_data",
          "data": {
            "image/png": "[encoded data removed]",
            "text/plain": [
              "<Figure size 720x720 with 1 Axes>"
            ]
          },
          "metadata": {
            "needs_background": "light"
          }
        }
      ]
    },
    {
      "cell_type": "code",
      "metadata": {
        "colab": {
          "base_uri": "https://localhost:8080/"
        },
        "id": "_WqveZQaGru8",
        "outputId": "ff76c82f-e52c-4d19-80e4-2cace403a3a4"
      },
      "source": [
        "train_data['age'].value_counts()"
      ],
      "execution_count": null,
      "outputs": [
        {
          "output_type": "execute_result",
          "data": {
            "text/plain": [
              "20-29           21252\n",
              "30-39           16050\n",
              "40-49            8871\n",
              "3-9              8669\n",
              "10-19            7525\n",
              "50-59            5158\n",
              "60-69            2258\n",
              "0-2              1497\n",
              "more than 70      707\n",
              "Name: age, dtype: int64"
            ]
          },
          "metadata": {
            "tags": []
          },
          "execution_count": 23
        }
      ]
    },
    {
      "cell_type": "code",
      "metadata": {
        "colab": {
          "base_uri": "https://localhost:8080/",
          "height": 628
        },
        "id": "jf9Pay8VHSxw",
        "outputId": "d6decb3d-720c-4471-878c-12004fdda387"
      },
      "source": [
        "plt.figure(figsize=(10,10))\n",
        "chart=sns.countplot(x ='gender', data = train_data)\n",
        "chart.set_xticklabels(chart.get_xticklabels(), rotation=45);"
      ],
      "execution_count": 15,
      "outputs": [
        {
          "output_type": "display_data",
          "data": {
            "image/png": "[encoded data removed]",
            "text/plain": [
              "<Figure size 720x720 with 1 Axes>"
            ]
          },
          "metadata": {
            "needs_background": "light"
          }
        }
      ]
    },
    {
      "cell_type": "code",
      "metadata": {
        "colab": {
          "base_uri": "https://localhost:8080/"
        },
        "id": "cnpiiW7BGwdx",
        "outputId": "a9aff671-91a4-4272-d25b-339b2802cac5"
      },
      "source": [
        "train_data['gender'].value_counts()"
      ],
      "execution_count": null,
      "outputs": [
        {
          "output_type": "execute_result",
          "data": {
            "text/plain": [
              "Male      38143\n",
              "Female    33844\n",
              "Name: gender, dtype: int64"
            ]
          },
          "metadata": {
            "tags": []
          },
          "execution_count": 25
        }
      ]
    },
    {
      "cell_type": "code",
      "metadata": {
        "colab": {
          "base_uri": "https://localhost:8080/",
          "height": 660
        },
        "id": "gTfULSseF1mA",
        "outputId": "898e14ef-88ec-4024-cb7a-d4e9ed720538"
      },
      "source": [
        "plt.figure(figsize=(10,10))\n",
        "chart=sns.countplot(x ='race', data = train_data)\n",
        "chart.set_xticklabels(chart.get_xticklabels(), rotation=45);"
      ],
      "execution_count": 12,
      "outputs": [
        {
          "output_type": "display_data",
          "data": {
            "image/png": "[encoded data removed]",
            "text/plain": [
              "<Figure size 720x720 with 1 Axes>"
            ]
          },
          "metadata": {
            "needs_background": "light"
          }
        }
      ]
    },
    {
      "cell_type": "code",
      "metadata": {
        "colab": {
          "base_uri": "https://localhost:8080/"
        },
        "id": "aAFec26yG1cb",
        "outputId": "b2d7bce6-52e3-4e8d-b7d1-318949b0f1ef"
      },
      "source": [
        "train_data['race'].value_counts()"
      ],
      "execution_count": null,
      "outputs": [
        {
          "output_type": "execute_result",
          "data": {
            "text/plain": [
              "White              13740\n",
              "Latino_Hispanic    11093\n",
              "Indian             10245\n",
              "Black              10144\n",
              "East Asian         10138\n",
              "Southeast Asian     8958\n",
              "Middle Eastern      7668\n",
              "Wh                     1\n",
              "Name: race, dtype: int64"
            ]
          },
          "metadata": {
            "tags": []
          },
          "execution_count": 27
        }
      ]
    },
    {
      "cell_type": "code",
      "metadata": {
        "colab": {
          "base_uri": "https://localhost:8080/",
          "height": 650
        },
        "id": "Z6lvdc5xHdX3",
        "outputId": "dacb00f8-38d5-4067-84ac-afe763e93df4"
      },
      "source": [
        "plt.figure(figsize=(10,10))\n",
        "chart=sns.countplot(x ='age', data = train_data)\n",
        "chart.set_xticklabels(chart.get_xticklabels(), rotation=45);"
      ],
      "execution_count": 13,
      "outputs": [
        {
          "output_type": "display_data",
          "data": {
            "image/png": "[encoded data removed]",
            "text/plain": [
              "<Figure size 720x720 with 1 Axes>"
            ]
          },
          "metadata": {
            "needs_background": "light"
          }
        }
      ]
    },
    {
      "cell_type": "code",
      "metadata": {
        "colab": {
          "base_uri": "https://localhost:8080/"
        },
        "id": "QBV4Pd0DG65f",
        "outputId": "f6ac217c-c09d-4bfe-b9e7-55e817842b0e"
      },
      "source": [
        "test_data['age'].value_counts()"
      ],
      "execution_count": null,
      "outputs": [
        {
          "output_type": "execute_result",
          "data": {
            "text/plain": [
              "20-29           3300\n",
              "30-39           2330\n",
              "3-9             1356\n",
              "40-49           1353\n",
              "10-19           1181\n",
              "50-59            796\n",
              "60-69            321\n",
              "0-2              199\n",
              "more than 70     118\n",
              "Name: age, dtype: int64"
            ]
          },
          "metadata": {
            "tags": []
          },
          "execution_count": 29
        }
      ]
    },
    {
      "cell_type": "code",
      "metadata": {
        "colab": {
          "base_uri": "https://localhost:8080/",
          "height": 628
        },
        "id": "pxSQF0JBHh9J",
        "outputId": "f4f35c2a-7be9-47f5-eb50-f8cb42d4c710"
      },
      "source": [
        "plt.figure(figsize=(10,10))\n",
        "chart=sns.countplot(x ='gender', data = test_data)\n",
        "chart.set_xticklabels(chart.get_xticklabels(), rotation=45);"
      ],
      "execution_count": 16,
      "outputs": [
        {
          "output_type": "display_data",
          "data": {
            "image/png": "[encoded data removed]",
            "text/plain": [
              "<Figure size 720x720 with 1 Axes>"
            ]
          },
          "metadata": {
            "needs_background": "light"
          }
        }
      ]
    },
    {
      "cell_type": "code",
      "metadata": {
        "colab": {
          "base_uri": "https://localhost:8080/"
        },
        "id": "QpyCU0OyG8iU",
        "outputId": "58730708-52db-4594-dcc9-c05357d5265c"
      },
      "source": [
        "test_data['gender'].value_counts()"
      ],
      "execution_count": null,
      "outputs": [
        {
          "output_type": "execute_result",
          "data": {
            "text/plain": [
              "Male      5792\n",
              "Female    5162\n",
              "Name: gender, dtype: int64"
            ]
          },
          "metadata": {
            "tags": []
          },
          "execution_count": 31
        }
      ]
    },
    {
      "cell_type": "code",
      "metadata": {
        "colab": {
          "base_uri": "https://localhost:8080/",
          "height": 660
        },
        "id": "nETdlU_2Ho8m",
        "outputId": "b04e8457-67a9-478f-f04e-c5d240f1a165"
      },
      "source": [
        "plt.figure(figsize=(10,10))\n",
        "chart=sns.countplot(x ='race', data = test_data)\n",
        "chart.set_xticklabels(chart.get_xticklabels(), rotation=45);"
      ],
      "execution_count": 17,
      "outputs": [
        {
          "output_type": "display_data",
          "data": {
            "image/png": "[encoded data removed]",
            "text/plain": [
              "<Figure size 720x720 with 1 Axes>"
            ]
          },
          "metadata": {
            "needs_background": "light"
          }
        }
      ]
    },
    {
      "cell_type": "code",
      "metadata": {
        "colab": {
          "base_uri": "https://localhost:8080/"
        },
        "id": "aSzqvFKlG_DG",
        "outputId": "47ced3a3-f01d-4c3f-8dff-56e5fbb80605"
      },
      "source": [
        "test_data['race'].value_counts()"
      ],
      "execution_count": null,
      "outputs": [
        {
          "output_type": "execute_result",
          "data": {
            "text/plain": [
              "White              2085\n",
              "Latino_Hispanic    1623\n",
              "Black              1556\n",
              "East Asian         1550\n",
              "Indian             1516\n",
              "Southeast Asian    1415\n",
              "Middle Eastern     1209\n",
              "Name: race, dtype: int64"
            ]
          },
          "metadata": {
            "tags": []
          },
          "execution_count": 33
        }
      ]
    }
  ]
}