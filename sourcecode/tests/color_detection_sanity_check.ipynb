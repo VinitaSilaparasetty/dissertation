{
 "cells": [
  {
   "cell_type": "code",
   "execution_count": null,
   "id": "9b9d7ab5-d176-431a-9b8f-baa59c18be41",
   "metadata": {},
   "outputs": [],
   "source": [
    "import numpy as np\n",
    "import cv2\n",
    "\n",
    "webcam = cv2.VideoCapture(0)\n",
    "\n",
    "while(1):\n",
    "    _, imageFrame = webcam.read()\n",
    "    hsvFrame = cv2.cvtColor(imageFrame, cv2.COLOR_BGR2HSV)\n",
    "    red_lower = np.array([136, 87, 111], np.uint8)\n",
    "    red_upper = np.array([180, 255, 255], np.uint8)\n",
    "    red_mask = cv2.inRange(hsvFrame, red_lower, red_upper)\n",
    "    \n",
    "    green_lower = np.array([25, 52, 72], np.uint8)\n",
    "    green_upper = np.array([102, 255, 255], np.uint8)\n",
    "    green_mask = cv2.inRange(hsvFrame, green_lower, green_upper)\n",
    "    \n",
    "    blue_lower = np.array([94, 80, 2], np.uint8)\n",
    "    blue_upper = np.array([120, 255, 255], np.uint8)\n",
    "    blue_mask = cv2.inRange(hsvFrame, blue_lower, blue_upper)\n",
    "    \n",
    "    kernal = np.ones((5, 5), \"uint8\")\n",
    "    \n",
    "    red_mask = cv2.dilate(red_mask, kernal)\n",
    "    res_red = cv2.bitwise_and(imageFrame, imageFrame,mask = red_mask)\n",
    "    \n",
    "    green_mask = cv2.dilate(green_mask, kernal)\n",
    "    res_green = cv2.bitwise_and(imageFrame, imageFrame,mask = green_mask)\n",
    "    \n",
    "    blue_mask = cv2.dilate(blue_mask, kernal)\n",
    "    res_blue = cv2.bitwise_and(imageFrame, imageFrame,mask = blue_mask)\n",
    "    \n",
    "    contours, hierarchy = cv2.findContours(red_mask,cv2.RETR_TREE,cv2.CHAIN_APPROX_SIMPLE)\n",
    "    for pic, contour in enumerate(contours):\n",
    "        area = cv2.contourArea(contour)\n",
    "        if(area > 800):\n",
    "            x, y, w, h = cv2.boundingRect(contour)\n",
    "            imageFrame = cv2.rectangle(imageFrame, (x, y), (x + w, y + h),(0, 0, 255), 2)\n",
    "            cv2.putText(imageFrame, \"Red\", (x, y),cv2.FONT_HERSHEY_COMPLEX, 1.0,(0, 0, 255))\n",
    "    contours, hierarchy = cv2.findContours(green_mask,cv2.RETR_TREE,cv2.CHAIN_APPROX_SIMPLE)\n",
    "    for pic, contour in enumerate(contours):\n",
    "        area = cv2.contourArea(contour)\n",
    "        if(area > 800):\n",
    "            x, y, w, h = cv2.boundingRect(contour)\n",
    "            imageFrame = cv2.rectangle(imageFrame, (x, y), (x + w, y + h),(0, 255, 0), 2)\n",
    "            cv2.putText(imageFrame, \"Green\", (x, y),cv2.FONT_HERSHEY_COMPLEX, 1.0, (0, 255, 0))\n",
    "            contours, hierarchy = cv2.findContours(blue_mask,cv2.RETR_TREE,cv2.CHAIN_APPROX_SIMPLE)\n",
    "    for pic, contour in enumerate(contours):\n",
    "        area = cv2.contourArea(contour)\n",
    "        if(area > 800):\n",
    "            x, y, w, h = cv2.boundingRect(contour)\n",
    "            imageFrame = cv2.rectangle(imageFrame, (x, y),(x + w, y + h),(255, 0, 0), 2)\n",
    "            cv2.putText(imageFrame, \"Blue\", (x, y),cv2.FONT_HERSHEY_COMPLEX,1.0, (255, 0, 0))\n",
    "    cv2.imshow(\"Sanity Check - Color Detection\", imageFrame)\n",
    "    if cv2.waitKey(10) & 0xFF == ord('q'):\n",
    "        cap.release()\n",
    "        cv2.destroyAllWindows()\n",
    "        break"
   ]
  },
  {
   "cell_type": "code",
   "execution_count": null,
   "id": "edd0dcf1-c3a2-493c-838c-c67f6189fbbb",
   "metadata": {},
   "outputs": [],
   "source": []
  }
 ],
 "metadata": {
  "kernelspec": {
   "display_name": "Python 3",
   "language": "python",
   "name": "python3"
  },
  "language_info": {
   "codemirror_mode": {
    "name": "ipython",
    "version": 3
   },
   "file_extension": ".py",
   "mimetype": "text/x-python",
   "name": "python",
   "nbconvert_exporter": "python",
   "pygments_lexer": "ipython3",
   "version": "3.8.8"
  }
 },
 "nbformat": 4,
 "nbformat_minor": 5
}
