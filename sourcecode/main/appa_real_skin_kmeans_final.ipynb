{
  "nbformat": 4,
  "nbformat_minor": 0,
  "metadata": {
    "colab": {
      "name": "appa_real_skin_kmeans_final.ipynb",
      "provenance": [],
      "collapsed_sections": []
    },
    "kernelspec": {
      "name": "python3",
      "display_name": "Python 3"
    },
    "language_info": {
      "name": "python"
    }
  },
  "cells": [
    {
      "cell_type": "markdown",
      "metadata": {
        "id": "Wjw1rWQYHJKq"
      },
      "source": [
        "#Kmeans to Detect Skintones"
      ]
    },
    {
      "cell_type": "markdown",
      "metadata": {
        "id": "Kipuc9FMVFsX"
      },
      "source": [
        "### Import Libraries"
      ]
    },
    {
      "cell_type": "code",
      "metadata": {
        "id": "93MrAv0sVJVL"
      },
      "source": [
        "import cv2\n",
        "import numpy as np\n",
        "import matplotlib.pyplot as plt\n",
        "from sklearn.cluster import KMeans\n",
        "import argparse\n",
        "import imutils\n",
        "import os\n",
        "import sys\n",
        "import dlib\n",
        "from PIL import Image\n",
        "from yellowbrick.cluster import KElbowVisualizer"
      ],
      "execution_count": 15,
      "outputs": []
    },
    {
      "cell_type": "markdown",
      "metadata": {
        "id": "TOGm-Ix2VVfO"
      },
      "source": [
        "### Crop Image"
      ]
    },
    {
      "cell_type": "markdown",
      "metadata": {
        "id": "fmV3wwFmVdSZ"
      },
      "source": [
        "Use Dlib to detect a face in the image and crop it."
      ]
    },
    {
      "cell_type": "code",
      "metadata": {
        "colab": {
          "base_uri": "https://localhost:8080/"
        },
        "id": "50Z5qWzEYiAv",
        "outputId": "d2b4db98-9feb-41a8-9306-f6887162698b"
      },
      "source": [
        "# dirname is the directory containing the sample image\n",
        "dirname = \"/content/drive/MyDrive/skin_detection/fitz_inference/fitz1\"\n",
        "#  put_dirname is the name of the directory where the cropped images are stored\n",
        "put_dirname = \"/content/drive/MyDrive/skin_detection/fitz_inference/fitz1\"\n",
        "# the width and height in pixels of the saved image\n",
        "crop_width = 224\n",
        "# whether this is just a face crop (true) or whether we're trying to include other elements in the image. \n",
        "# Based on the shortest distance between the detected face square and the edge of the image\n",
        "simple_crop = True\n",
        "\n",
        "\n",
        "face_detector = dlib.get_frontal_face_detector()\n",
        "file_types = ('.jpg', '.JPG', '.jpeg', '.JPEG', '.png', '.PNG')\n",
        "\n",
        "files = [file_i\n",
        "         for file_i in os.listdir(dirname)\n",
        "         if file_i.endswith(file_types)]\n",
        "\n",
        "filenames = [os.path.join(dirname, fname)\n",
        "             for fname in files]\n",
        "             \n",
        "# do face detection on the image\n",
        "\n",
        "print('found %d files' % len(filenames))\n",
        "\n",
        "filename_inc = 100\n",
        "\n",
        "filecount = 1\n",
        "\n",
        "for file in filenames:\n",
        "    img = plt.imread(file)\n",
        "    detected_faces = face_detector(img, 1)\n",
        "    print(\"[%d of %d] %d detected faces in %s\" % (filecount, len(filenames), len(detected_faces), file))\n",
        "    for i, face_rect in enumerate(detected_faces):\n",
        "        width = face_rect.right() - face_rect.left()\n",
        "        height = face_rect.bottom() - face_rect.top()\n",
        "        if width >= crop_width and height >= crop_width:\n",
        "            image_to_crop = Image.open(file)\n",
        "            \n",
        "            if simple_crop:\n",
        "                crop_area = (face_rect.left(), face_rect.top(), face_rect.right(), face_rect.bottom())\n",
        "            else:\n",
        "                size_array = []\n",
        "                size_array.append(face_rect.top())\n",
        "                size_array.append(image_to_crop.height - face_rect.bottom())\n",
        "                size_array.append(face_rect.left())\n",
        "                size_array.append(image_to_crop.width - face_rect.right())\n",
        "                size_array.sort()\n",
        "                short_side = size_array[0]\n",
        "                crop_area = (face_rect.left() - size_array[0] , face_rect.top() - size_array[0], face_rect.right() + size_array[0], face_rect.bottom() + size_array[0])\n",
        "\n",
        "            cropped_image = image_to_crop.crop(crop_area)\n",
        "            crop_size = (crop_width, crop_width)\n",
        "            cropped_image.thumbnail(crop_size)\n",
        "            cropped_image.save(file + \".jpg\", \"JPEG\")\n",
        "            filename_inc += 1\n",
        "    filecount += 1"
      ],
      "execution_count": 25,
      "outputs": [
        {
          "output_type": "stream",
          "text": [
            "found 5 files\n",
            "[1 of 5] 1 detected faces in /content/drive/MyDrive/skin_detection/fitz_inference/fitz1/fitz1_4.jpg\n",
            "[2 of 5] 1 detected faces in /content/drive/MyDrive/skin_detection/fitz_inference/fitz1/fitz1_1.jpg\n",
            "[3 of 5] 1 detected faces in /content/drive/MyDrive/skin_detection/fitz_inference/fitz1/fitz1_last_final.jpg\n",
            "[4 of 5] 1 detected faces in /content/drive/MyDrive/skin_detection/fitz_inference/fitz1/fitz1_2.jpg\n",
            "[5 of 5] 1 detected faces in /content/drive/MyDrive/skin_detection/fitz_inference/fitz1/fitz1_3.jpg\n"
          ],
          "name": "stdout"
        }
      ]
    },
    {
      "cell_type": "code",
      "metadata": {
        "colab": {
          "base_uri": "https://localhost:8080/",
          "height": 241
        },
        "id": "n35OnQiXoikL",
        "outputId": "4e75dfe5-31f6-4d1e-dbf8-51d16ed88465"
      },
      "source": [
        "#from IPython.display import Image \n",
        "#pil_img = Image(filename='/content/drive/MyDrive/skin_detection/sample_input/woman.jpg.jpg')\n",
        "#display(pil_img)"
      ],
      "execution_count": null,
      "outputs": [
        {
          "output_type": "display_data",
          "data": {
            "image/jpeg": "[encoded data removed]",
            "text/plain": [
              "<IPython.core.display.Image object>"
            ]
          },
          "metadata": {}
        }
      ]
    },
    {
      "cell_type": "markdown",
      "metadata": {
        "id": "pHgwnjvh9hgI"
      },
      "source": [
        "### Extract Dominant Colors"
      ]
    },
    {
      "cell_type": "code",
      "metadata": {
        "id": "4obGnJ7DRvsV",
        "colab": {
          "base_uri": "https://localhost:8080/",
          "height": 316
        },
        "outputId": "13feb3f1-cd60-4639-c40e-d6245ffa41e3"
      },
      "source": [
        "class domcolor:\n",
        "\n",
        "    CLUSTERS = None\n",
        "    IMAGE = None\n",
        "    COLORS = None\n",
        "    LABELS = None\n",
        "    \n",
        "    def __init__(self, image, clusters=3):\n",
        "        self.CLUSTERS = clusters\n",
        "        self.IMAGE = image\n",
        "        \n",
        "    def domcolor(self):\n",
        "    \n",
        "        #read image\n",
        "        img = cv2.imread(self.IMAGE)\n",
        "        \n",
        "        #convert to rgb from bgr\n",
        "        img = cv2.cvtColor(img, cv2.COLOR_BGR2HSV)\n",
        "                \n",
        "        #reshaping to a list of pixels\n",
        "        img = img.reshape((img.shape[0] * img.shape[1], 3))\n",
        "        \n",
        "        #save image after operations\n",
        "        self.IMAGE = img\n",
        "        \n",
        "        #using k-means to cluster pixels\n",
        "        kmeans = KMeans(n_clusters = self.CLUSTERS)\n",
        "        visualizer = KElbowVisualizer(kmeans, k=(3,12),locate_elbow=True)\n",
        "        kmeans.fit(img)\n",
        "        visualizer.fit(img)\n",
        "        \n",
        "        #the cluster centers are our dominant colors.\n",
        "        self.COLORS = kmeans.cluster_centers_\n",
        "        \n",
        "        #save labels\n",
        "        self.LABELS = kmeans.labels_\n",
        "        \n",
        "        #returning after converting to integer from float\n",
        "        return self.COLORS.astype(int)\n",
        "\n",
        "    def rgb_to_hex(self, rgb):\n",
        "        #rgb = cv2.cvtColor(img, cv2.COLOR_BGR2RGB)\n",
        "        return '#%02x%02x%02x' % (int(rgb[0]), int(rgb[1]), int(rgb[2]))\n",
        "    \n",
        "\n",
        "    def plotHistogram(self):\n",
        "       \n",
        "        #labels form 0 to no. of clusters\n",
        "        numLabels = np.arange(0, self.CLUSTERS+1)\n",
        "       \n",
        "        #create frequency count tables    \n",
        "        (hist, _) = np.histogram(self.LABELS, bins = numLabels)\n",
        "        hist = hist.astype(\"float\")\n",
        "        hist /= hist.sum()\n",
        "        \n",
        "        #appending frequencies to cluster centers\n",
        "        colors = self.COLORS\n",
        "        \n",
        "        #descending order sorting as per frequency count\n",
        "        colors = colors[(-hist).argsort()]\n",
        "        hist = hist[(-hist).argsort()] \n",
        "        \n",
        "        #creating empty chart\n",
        "        chart = np.zeros((50, 500, 3), np.uint8)\n",
        "        start = 0\n",
        "        \n",
        "        #creating color rectangles\n",
        "        for i in range(self.CLUSTERS):\n",
        "            end = start + hist[i] * 500\n",
        "            \n",
        "            #getting rgb values\n",
        "            h = colors[i][0]\n",
        "            s = colors[i][1]\n",
        "            v = colors[i][2]\n",
        "            \n",
        "            #using cv2.rectangle to plot colors\n",
        "            cv2.rectangle(chart, (int(start), 0), (int(end), 50), (h,s,v), -1)\n",
        "            start = end\t\n",
        "        \n",
        "        #display chart\n",
        "        plt.figure()\n",
        "        plt.axis(\"off\")\n",
        "        plt.imshow(chart)\n",
        "        plt.show()\n",
        "\n",
        "img = '/content/drive/MyDrive/skin_detection/sample_input/woman.jpg.jpg'\n",
        "clusters = 5\n",
        "dc = domcolor(img, clusters) \n",
        "colors = dc.domcolor()\n",
        "dc.plotHistogram()\n"
      ],
      "execution_count": null,
      "outputs": [
        {
          "output_type": "display_data",
          "data": {
            "image/png": "[encoded data removed]",
            "text/plain": [
              "<Figure size 432x288 with 2 Axes>"
            ]
          },
          "metadata": {
            "needs_background": "light"
          }
        },
        {
          "output_type": "display_data",
          "data": {
            "image/png": "[encoded data removed]",
            "text/plain": [
              "<Figure size 432x288 with 1 Axes>"
            ]
          },
          "metadata": {
            "needs_background": "light"
          }
        }
      ]
    },
    {
      "cell_type": "markdown",
      "metadata": {
        "id": "WZwgOlnmG0ih"
      },
      "source": [
        "### Skin Detection using Color Detection"
      ]
    },
    {
      "cell_type": "code",
      "metadata": {
        "id": "Drpdpl4G5Khg"
      },
      "source": [
        "from math import sqrt\n",
        "import random\n",
        "try:\n",
        "  import Image\n",
        "except ImportError:\n",
        "  from PIL import Image"
      ],
      "execution_count": 17,
      "outputs": []
    },
    {
      "cell_type": "code",
      "metadata": {
        "id": "lA3PDraJG4Ja"
      },
      "source": [
        "class Point:\n",
        "  \n",
        "  def __init__(self, coordinates):\n",
        "    self.coordinates = coordinates"
      ],
      "execution_count": 18,
      "outputs": []
    },
    {
      "cell_type": "code",
      "metadata": {
        "id": "AwBq35wFG7FK"
      },
      "source": [
        "class Cluster:\n",
        "  \n",
        "  def __init__(self, center, points):\n",
        "    self.center = center\n",
        "    self.points = points"
      ],
      "execution_count": 19,
      "outputs": []
    },
    {
      "cell_type": "code",
      "metadata": {
        "id": "Z2XH8ijnG-Ge"
      },
      "source": [
        "class KMeans:\n",
        "  \n",
        "  def __init__(self, n_clusters, min_diff = 1):\n",
        "    self.n_clusters = n_clusters\n",
        "    self.min_diff = min_diff\n",
        "    \n",
        "  def calculate_center(self, points):    \n",
        "    n_dim = len(points[0].coordinates)    \n",
        "    vals = [0.0 for i in range(n_dim)]    \n",
        "    for p in points:\n",
        "      for i in range(n_dim):\n",
        "        vals[i] += p.coordinates[i]\n",
        "    coords = [(v / len(points)) for v in vals]    \n",
        "    return Point(coords)\n",
        "  \n",
        "  def assign_points(self, clusters, points):\n",
        "    plists = [[] for i in range(self.n_clusters)]\n",
        "\n",
        "    for p in points:\n",
        "      smallest_distance = float('inf')\n",
        "\n",
        "      for i in range(self.n_clusters):\n",
        "        distance = euclidean(p, clusters[i].center)\n",
        "        if distance < smallest_distance:\n",
        "          smallest_distance = distance\n",
        "          idx = i\n",
        "\n",
        "      plists[idx].append(p)\n",
        "    \n",
        "    return plists\n",
        "    \n",
        "  def fit(self, points):\n",
        "    clusters = [Cluster(center=p, points=[p]) for p in random.sample(points, self.n_clusters)]\n",
        "    \n",
        "    while True:\n",
        "\n",
        "      plists = self.assign_points(clusters, points)\n",
        "\n",
        "      diff = 0\n",
        "\n",
        "      for i in range(self.n_clusters):\n",
        "        if not plists[i]:\n",
        "          continue\n",
        "        old = clusters[i]\n",
        "        center = self.calculate_center(plists[i])\n",
        "        new = Cluster(center, plists[i])\n",
        "        clusters[i] = new\n",
        "        diff = max(diff, euclidean(old.center, new.center))\n",
        "\n",
        "      if diff < self.min_diff:\n",
        "        break\n",
        "\n",
        "    return clusters"
      ],
      "execution_count": 20,
      "outputs": []
    },
    {
      "cell_type": "code",
      "metadata": {
        "id": "-PLepx2xHCE5"
      },
      "source": [
        "def euclidean(p, q):\n",
        "  n_dim = len(p.coordinates)\n",
        "  return sqrt(sum([\n",
        "      (p.coordinates[i] - q.coordinates[i]) ** 2 for i in range(n_dim)\n",
        "  ]))"
      ],
      "execution_count": 21,
      "outputs": []
    },
    {
      "cell_type": "code",
      "metadata": {
        "id": "L0KROLwUHFp-"
      },
      "source": [
        "def get_points(image_path):  \n",
        "  img = Image.open(image_path)\n",
        "  img.thumbnail((200, 400))\n",
        "  img = img.convert(\"RGB\")\n",
        "  w, h = img.size\n",
        "  \n",
        "  points = []\n",
        "  for count, color in img.getcolors(w * h):\n",
        "    for _ in range(count):\n",
        "      points.append(Point(color))\n",
        "    \n",
        "  return points"
      ],
      "execution_count": 22,
      "outputs": []
    },
    {
      "cell_type": "code",
      "metadata": {
        "id": "jZ8CjIaqHQV5"
      },
      "source": [
        "def rgb_to_hex(rgb):\n",
        "  return '#%s' % ''.join(('%02x' % p for p in rgb))\n",
        "\n",
        "def get_colors(filename, n_colors=3):\n",
        "  points = get_points(filename)\n",
        "  clusters = KMeans(n_clusters=n_colors).fit(points)\n",
        "  clusters.sort(key=lambda c: len(c.points), reverse = True)\n",
        "  rgbs = [map(int, c.center.coordinates) for c in clusters]\n",
        "  return list(map(rgb_to_hex, rgbs))"
      ],
      "execution_count": 23,
      "outputs": []
    },
    {
      "cell_type": "code",
      "metadata": {
        "colab": {
          "base_uri": "https://localhost:8080/",
          "height": 35
        },
        "id": "KFE4utnqHSV9",
        "outputId": "df40de0e-f579-42c0-db25-358610959c8d"
      },
      "source": [
        "result = get_colors('/content/drive/MyDrive/skin_detection/fitz_inference/fitz1/fitz1_last_final.jpg', n_colors=5)\n",
        "\", \".join(result)"
      ],
      "execution_count": 37,
      "outputs": [
        {
          "output_type": "execute_result",
          "data": {
            "application/vnd.google.colaboratory.intrinsic+json": {
              "type": "string"
            },
            "text/plain": [
              "'#fefefd, #e2cfc1, #dabaa2, #642f23, #ae7759'"
            ]
          },
          "metadata": {},
          "execution_count": 37
        }
      ]
    },
    {
      "cell_type": "code",
      "metadata": {
        "id": "vukMP5ZpQSN2"
      },
      "source": [
        "if result == 'FFE5C8':\n",
        "    fitzpatrick_type = 'Type I'\n",
        "elif result == 'FFDABE':\n",
        "   fitzpatrick_type = 'Type I'\n",
        "elif result == 'FFCEB4':\n",
        "   fitzpatrick_type = 'Type I'\n",
        "elif result == 'FFC3AA':\n",
        "   fitzpatrick_type = 'Type II'\n",
        "elif result == 'F0B8A0':\n",
        "   fitzpatrick_type = 'Type II'\n",
        "elif result == 'E1AC96':\n",
        "   fitzpatrick_type = 'Type II'\n",
        "elif result == 'D2A18C':\n",
        "   fitzpatrick_type = 'Type III'\n",
        "elif result == 'C39582':\n",
        "   fitzpatrick_type = 'Type III'\n",
        "elif result == 'B48A78':\n",
        "   fitzpatrick_type = 'Type III'\n",
        "elif result == 'A57E6E':\n",
        "   fitzpatrick_type = 'Type IV'\n",
        "elif result == '967264':\n",
        "   fitzpatrick_type = 'Type IV'\n",
        "elif result == '87675A':\n",
        "   fitzpatrick_type = 'Type IV'\n",
        "elif result == '785C50':\n",
        "   fitzpatrick_type = 'Type V'\n",
        "elif result == '695046':\n",
        "   fitzpatrick_type = 'Type V'\n",
        "elif result == '5A453C':\n",
        "   fitzpatrick_type = 'Type V'\n",
        "elif result == '4B3932':\n",
        "   fitzpatrick_type = 'Type VI'\n",
        "elif result == '3C2E28':\n",
        "   fitzpatrick_type = 'Type VI'\n",
        "elif result == '2D221E':\n",
        "   fitzpatrick_type = 'Type VI'\n",
        "else:\n",
        "    fitzpatrick_type = 'Unable to Classify'"
      ],
      "execution_count": 38,
      "outputs": []
    },
    {
      "cell_type": "code",
      "metadata": {
        "colab": {
          "base_uri": "https://localhost:8080/",
          "height": 35
        },
        "id": "Fni3qDSJVvZH",
        "outputId": "0edc559f-afe7-468e-83ed-c6fd5ba87ee4"
      },
      "source": [
        "fitzpatrick_type"
      ],
      "execution_count": 39,
      "outputs": [
        {
          "output_type": "execute_result",
          "data": {
            "application/vnd.google.colaboratory.intrinsic+json": {
              "type": "string"
            },
            "text/plain": [
              "'Unable to Classify'"
            ]
          },
          "metadata": {},
          "execution_count": 39
        }
      ]
    }
  ]
}